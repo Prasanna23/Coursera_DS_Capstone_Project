{
    "cells": [
        {
            "cell_type": "markdown",
            "metadata": {
                "collapsed": true
            },
            "source": "#  Finding your perfect home!!"
        },
        {
            "cell_type": "markdown",
            "metadata": {},
            "source": "### Problem description"
        },
        {
            "cell_type": "markdown",
            "metadata": {},
            "source": "  In this project we will try to find the neighborhood in Buffalo,NY where we can buy our home based on our interests and needs. This will be acheived by an analytical approach, programatically go through the data, using maching learning techniques and visualizing using various python packages.\n  \n  Data will have to collected from different sources, cleaned up and transformed to suit our needs to extend the analysis in acheiving the goal of finding the place where our next home is."
        },
        {
            "cell_type": "markdown",
            "metadata": {},
            "source": "### Data Source"
        },
        {
            "cell_type": "markdown",
            "metadata": {},
            "source": "  We will be using Buffalo neighborhood data file available in the following website. This file contains lot of details which may not be of interest to us for this analysis. We can trim this file to suit our needs. This data set contains the demographics, economic and housing characteristics data for each neighborhood in the Buffalo area. The criteria used for analysis in finding the best neighborhood for buying the home are as follows.\n  1. Neighborhood with considerable asian population\n  2. Neighborhood with newer homes\n  3. Neighborhood with Restauarants\nhttps://data.buffalony.gov/stories/s/a235-4wxj -- Data Source\n\nThe Foursquare Api: This data will be accesed via Python, and used to obtain the most common venues per neighborhood in the city of Buffalo. This will help in identifying where the restaurants and other eateries are situated in the city.\n\n  \n  "
        },
        {
            "cell_type": "markdown",
            "metadata": {},
            "source": "Basic exploration of the data"
        },
        {
            "cell_type": "code",
            "execution_count": 2,
            "metadata": {},
            "outputs": [],
            "source": "import pandas as pd"
        },
        {
            "cell_type": "code",
            "execution_count": 6,
            "metadata": {},
            "outputs": [
                {
                    "data": {
                        "text/html": "<div>\n<style scoped>\n    .dataframe tbody tr th:only-of-type {\n        vertical-align: middle;\n    }\n\n    .dataframe tbody tr th {\n        vertical-align: top;\n    }\n\n    .dataframe thead th {\n        text-align: right;\n    }\n</style>\n<table border=\"1\" class=\"dataframe\">\n  <thead>\n    <tr style=\"text-align: right;\">\n      <th></th>\n      <th>Neighborhood</th>\n      <th>Community</th>\n      <th>ID</th>\n      <th>Neighborhood Abbreviation</th>\n      <th>Labor Force Participation Rate</th>\n      <th>Employment Rate</th>\n      <th>Private Employment Rate</th>\n      <th>Government Employment Rate</th>\n      <th>Self-Employment Rate</th>\n      <th>Median Income</th>\n      <th>...</th>\n      <th>Percent Non-Family Households</th>\n      <th>Total Living Alone</th>\n      <th>Percent Living Alone</th>\n      <th>Total Not Living Alone</th>\n      <th>Percent Not Living Alone</th>\n      <th>Total Living Alone Senior</th>\n      <th>Percent Living Alone Senior</th>\n      <th>Latitude</th>\n      <th>Longitude</th>\n      <th>New Georeferenced Column</th>\n    </tr>\n  </thead>\n  <tbody>\n    <tr>\n      <th>0</th>\n      <td>Kensington-Bailey</td>\n      <td>East</td>\n      <td>16</td>\n      <td>KB</td>\n      <td>56.41</td>\n      <td>89.47</td>\n      <td>82.11</td>\n      <td>16.11</td>\n      <td>1.78</td>\n      <td>37240</td>\n      <td>...</td>\n      <td>41.98</td>\n      <td>2209</td>\n      <td>92.74</td>\n      <td>173</td>\n      <td>7.26</td>\n      <td>565</td>\n      <td>23.72</td>\n      <td>42.939776</td>\n      <td>-78.809881</td>\n      <td>(42.93977645, -78.80988103)</td>\n    </tr>\n    <tr>\n      <th>1</th>\n      <td>Central</td>\n      <td>Central</td>\n      <td>1</td>\n      <td>CN</td>\n      <td>55.17</td>\n      <td>93.43</td>\n      <td>80.41</td>\n      <td>16.76</td>\n      <td>2.83</td>\n      <td>54390</td>\n      <td>...</td>\n      <td>59.35</td>\n      <td>761</td>\n      <td>78.62</td>\n      <td>207</td>\n      <td>21.38</td>\n      <td>184</td>\n      <td>19.01</td>\n      <td>42.875966</td>\n      <td>-78.877250</td>\n      <td>(42.87596621, -78.87725)</td>\n    </tr>\n    <tr>\n      <th>2</th>\n      <td>Elmwood Bidwell</td>\n      <td>West</td>\n      <td>6</td>\n      <td>EBW</td>\n      <td>66.01</td>\n      <td>94.02</td>\n      <td>80.12</td>\n      <td>15.57</td>\n      <td>4.31</td>\n      <td>56150</td>\n      <td>...</td>\n      <td>76.23</td>\n      <td>3738</td>\n      <td>79.38</td>\n      <td>971</td>\n      <td>20.62</td>\n      <td>1103</td>\n      <td>23.42</td>\n      <td>42.924511</td>\n      <td>-78.874531</td>\n      <td>(42.9245109, -78.8745306)</td>\n    </tr>\n    <tr>\n      <th>3</th>\n      <td>Riverside</td>\n      <td>North</td>\n      <td>11</td>\n      <td>RS</td>\n      <td>56.06</td>\n      <td>95.04</td>\n      <td>80.33</td>\n      <td>16.14</td>\n      <td>3.52</td>\n      <td>21570</td>\n      <td>...</td>\n      <td>42.42</td>\n      <td>1453</td>\n      <td>82.93</td>\n      <td>299</td>\n      <td>17.07</td>\n      <td>289</td>\n      <td>16.50</td>\n      <td>42.954950</td>\n      <td>-78.901916</td>\n      <td>(42.95494996, -78.90191565)</td>\n    </tr>\n    <tr>\n      <th>4</th>\n      <td>Fruit Belt</td>\n      <td>East</td>\n      <td>25</td>\n      <td>FB</td>\n      <td>40.25</td>\n      <td>89.76</td>\n      <td>75.15</td>\n      <td>14.04</td>\n      <td>10.82</td>\n      <td>25350</td>\n      <td>...</td>\n      <td>38.76</td>\n      <td>315</td>\n      <td>95.17</td>\n      <td>16</td>\n      <td>4.83</td>\n      <td>164</td>\n      <td>49.55</td>\n      <td>42.899160</td>\n      <td>-78.860605</td>\n      <td>(42.89916002, -78.86060503)</td>\n    </tr>\n  </tbody>\n</table>\n<p>5 rows \u00d7 124 columns</p>\n</div>",
                        "text/plain": "        Neighborhood Community  ID Neighborhood Abbreviation  \\\n0  Kensington-Bailey      East  16                        KB   \n1            Central   Central   1                        CN   \n2    Elmwood Bidwell      West   6                       EBW   \n3          Riverside     North  11                        RS   \n4         Fruit Belt      East  25                        FB   \n\n   Labor Force Participation Rate  Employment Rate  Private Employment Rate  \\\n0                           56.41            89.47                    82.11   \n1                           55.17            93.43                    80.41   \n2                           66.01            94.02                    80.12   \n3                           56.06            95.04                    80.33   \n4                           40.25            89.76                    75.15   \n\n   Government Employment Rate  Self-Employment Rate  Median Income  ...  \\\n0                       16.11                  1.78          37240  ...   \n1                       16.76                  2.83          54390  ...   \n2                       15.57                  4.31          56150  ...   \n3                       16.14                  3.52          21570  ...   \n4                       14.04                 10.82          25350  ...   \n\n   Percent Non-Family Households  Total Living Alone  Percent Living Alone  \\\n0                          41.98                2209                 92.74   \n1                          59.35                 761                 78.62   \n2                          76.23                3738                 79.38   \n3                          42.42                1453                 82.93   \n4                          38.76                 315                 95.17   \n\n   Total Not Living Alone  Percent Not Living Alone  \\\n0                     173                      7.26   \n1                     207                     21.38   \n2                     971                     20.62   \n3                     299                     17.07   \n4                      16                      4.83   \n\n   Total Living Alone Senior  Percent Living Alone Senior   Latitude  \\\n0                        565                        23.72  42.939776   \n1                        184                        19.01  42.875966   \n2                       1103                        23.42  42.924511   \n3                        289                        16.50  42.954950   \n4                        164                        49.55  42.899160   \n\n   Longitude     New Georeferenced Column  \n0 -78.809881  (42.93977645, -78.80988103)  \n1 -78.877250     (42.87596621, -78.87725)  \n2 -78.874531    (42.9245109, -78.8745306)  \n3 -78.901916  (42.95494996, -78.90191565)  \n4 -78.860605  (42.89916002, -78.86060503)  \n\n[5 rows x 124 columns]"
                    },
                    "execution_count": 6,
                    "metadata": {},
                    "output_type": "execute_result"
                }
            ],
            "source": "# The code was removed by Watson Studio for sharing."
        },
        {
            "cell_type": "code",
            "execution_count": 16,
            "metadata": {},
            "outputs": [
                {
                    "data": {
                        "text/html": "<div>\n<style scoped>\n    .dataframe tbody tr th:only-of-type {\n        vertical-align: middle;\n    }\n\n    .dataframe tbody tr th {\n        vertical-align: top;\n    }\n\n    .dataframe thead th {\n        text-align: right;\n    }\n</style>\n<table border=\"1\" class=\"dataframe\">\n  <thead>\n    <tr style=\"text-align: right;\">\n      <th></th>\n      <th>Neighborhood</th>\n      <th>Community</th>\n      <th>Latitude</th>\n      <th>Longitude</th>\n      <th>Median Income</th>\n    </tr>\n  </thead>\n  <tbody>\n    <tr>\n      <th>0</th>\n      <td>Kensington-Bailey</td>\n      <td>East</td>\n      <td>42.939776</td>\n      <td>-78.809881</td>\n      <td>37240</td>\n    </tr>\n    <tr>\n      <th>1</th>\n      <td>Central</td>\n      <td>Central</td>\n      <td>42.875966</td>\n      <td>-78.877250</td>\n      <td>54390</td>\n    </tr>\n    <tr>\n      <th>2</th>\n      <td>Elmwood Bidwell</td>\n      <td>West</td>\n      <td>42.924511</td>\n      <td>-78.874531</td>\n      <td>56150</td>\n    </tr>\n    <tr>\n      <th>3</th>\n      <td>Riverside</td>\n      <td>North</td>\n      <td>42.954950</td>\n      <td>-78.901916</td>\n      <td>21570</td>\n    </tr>\n    <tr>\n      <th>4</th>\n      <td>Fruit Belt</td>\n      <td>East</td>\n      <td>42.899160</td>\n      <td>-78.860605</td>\n      <td>25350</td>\n    </tr>\n    <tr>\n      <th>5</th>\n      <td>Pratt-Willert</td>\n      <td>East</td>\n      <td>42.887106</td>\n      <td>-78.860134</td>\n      <td>26330</td>\n    </tr>\n    <tr>\n      <th>6</th>\n      <td>University Heights</td>\n      <td>North</td>\n      <td>42.950995</td>\n      <td>-78.820645</td>\n      <td>42130</td>\n    </tr>\n    <tr>\n      <th>7</th>\n      <td>Delavan Grider</td>\n      <td>East</td>\n      <td>42.921940</td>\n      <td>-78.831565</td>\n      <td>28370</td>\n    </tr>\n    <tr>\n      <th>8</th>\n      <td>Kaisertown</td>\n      <td>South</td>\n      <td>42.871164</td>\n      <td>-78.809378</td>\n      <td>41280</td>\n    </tr>\n    <tr>\n      <th>9</th>\n      <td>Lower West Side</td>\n      <td>West</td>\n      <td>42.892692</td>\n      <td>-78.885380</td>\n      <td>18340</td>\n    </tr>\n    <tr>\n      <th>10</th>\n      <td>Elmwood Bryant</td>\n      <td>West</td>\n      <td>42.909564</td>\n      <td>-78.875978</td>\n      <td>40520</td>\n    </tr>\n    <tr>\n      <th>11</th>\n      <td>Lovejoy</td>\n      <td>East</td>\n      <td>42.887584</td>\n      <td>-78.812094</td>\n      <td>28780</td>\n    </tr>\n    <tr>\n      <th>12</th>\n      <td>Fillmore-Leroy</td>\n      <td>East</td>\n      <td>42.933075</td>\n      <td>-78.835398</td>\n      <td>22910</td>\n    </tr>\n    <tr>\n      <th>13</th>\n      <td>Seneca-Cazenovia</td>\n      <td>South</td>\n      <td>42.856939</td>\n      <td>-78.809195</td>\n      <td>38300</td>\n    </tr>\n    <tr>\n      <th>14</th>\n      <td>Black Rock</td>\n      <td>North</td>\n      <td>42.939284</td>\n      <td>-78.901827</td>\n      <td>24550</td>\n    </tr>\n    <tr>\n      <th>15</th>\n      <td>Central Park</td>\n      <td>North</td>\n      <td>42.948038</td>\n      <td>-78.837274</td>\n      <td>61940</td>\n    </tr>\n    <tr>\n      <th>16</th>\n      <td>West Side</td>\n      <td>West</td>\n      <td>42.905534</td>\n      <td>-78.892684</td>\n      <td>20040</td>\n    </tr>\n    <tr>\n      <th>17</th>\n      <td>Hopkins-Tifft</td>\n      <td>South</td>\n      <td>42.846165</td>\n      <td>-78.841956</td>\n      <td>36960</td>\n    </tr>\n    <tr>\n      <th>18</th>\n      <td>South Park</td>\n      <td>South</td>\n      <td>42.842726</td>\n      <td>-78.813528</td>\n      <td>55720</td>\n    </tr>\n    <tr>\n      <th>19</th>\n      <td>Schiller Park</td>\n      <td>East</td>\n      <td>42.913340</td>\n      <td>-78.805546</td>\n      <td>24020</td>\n    </tr>\n    <tr>\n      <th>20</th>\n      <td>Hamlin Park</td>\n      <td>East</td>\n      <td>42.921161</td>\n      <td>-78.848504</td>\n      <td>27860</td>\n    </tr>\n    <tr>\n      <th>21</th>\n      <td>Broadway Fillmore</td>\n      <td>East</td>\n      <td>42.890301</td>\n      <td>-78.839558</td>\n      <td>18940</td>\n    </tr>\n    <tr>\n      <th>22</th>\n      <td>North Park</td>\n      <td>North</td>\n      <td>42.951131</td>\n      <td>-78.860831</td>\n      <td>53870</td>\n    </tr>\n    <tr>\n      <th>23</th>\n      <td>Parkside</td>\n      <td>North</td>\n      <td>42.936658</td>\n      <td>-78.860027</td>\n      <td>54000</td>\n    </tr>\n    <tr>\n      <th>24</th>\n      <td>Upper West Side</td>\n      <td>West</td>\n      <td>42.922925</td>\n      <td>-78.893404</td>\n      <td>31390</td>\n    </tr>\n    <tr>\n      <th>25</th>\n      <td>Genesee-Moselle</td>\n      <td>East</td>\n      <td>42.906787</td>\n      <td>-78.818131</td>\n      <td>22080</td>\n    </tr>\n    <tr>\n      <th>26</th>\n      <td>Kenfield</td>\n      <td>East</td>\n      <td>42.927779</td>\n      <td>-78.808760</td>\n      <td>26700</td>\n    </tr>\n    <tr>\n      <th>27</th>\n      <td>First Ward</td>\n      <td>South</td>\n      <td>42.865960</td>\n      <td>-78.858467</td>\n      <td>27880</td>\n    </tr>\n    <tr>\n      <th>28</th>\n      <td>West Hertel</td>\n      <td>North</td>\n      <td>42.951184</td>\n      <td>-78.886673</td>\n      <td>25980</td>\n    </tr>\n    <tr>\n      <th>29</th>\n      <td>Ellicott</td>\n      <td>East</td>\n      <td>42.875295</td>\n      <td>-78.856977</td>\n      <td>22190</td>\n    </tr>\n    <tr>\n      <th>30</th>\n      <td>Masten Park</td>\n      <td>East</td>\n      <td>42.910959</td>\n      <td>-78.855598</td>\n      <td>22520</td>\n    </tr>\n    <tr>\n      <th>31</th>\n      <td>Grant-Amherst</td>\n      <td>North</td>\n      <td>42.938881</td>\n      <td>-78.888609</td>\n      <td>24385</td>\n    </tr>\n    <tr>\n      <th>32</th>\n      <td>Seneca Babcock</td>\n      <td>South</td>\n      <td>42.870176</td>\n      <td>-78.832377</td>\n      <td>30290</td>\n    </tr>\n    <tr>\n      <th>33</th>\n      <td>MLK Park</td>\n      <td>East</td>\n      <td>42.909308</td>\n      <td>-78.834789</td>\n      <td>20480</td>\n    </tr>\n    <tr>\n      <th>34</th>\n      <td>Allentown</td>\n      <td>West</td>\n      <td>42.898553</td>\n      <td>-78.876092</td>\n      <td>39060</td>\n    </tr>\n  </tbody>\n</table>\n</div>",
                        "text/plain": "          Neighborhood Community   Latitude  Longitude  Median Income\n0    Kensington-Bailey      East  42.939776 -78.809881          37240\n1              Central   Central  42.875966 -78.877250          54390\n2      Elmwood Bidwell      West  42.924511 -78.874531          56150\n3            Riverside     North  42.954950 -78.901916          21570\n4           Fruit Belt      East  42.899160 -78.860605          25350\n5        Pratt-Willert      East  42.887106 -78.860134          26330\n6   University Heights     North  42.950995 -78.820645          42130\n7       Delavan Grider      East  42.921940 -78.831565          28370\n8           Kaisertown     South  42.871164 -78.809378          41280\n9      Lower West Side      West  42.892692 -78.885380          18340\n10      Elmwood Bryant      West  42.909564 -78.875978          40520\n11             Lovejoy      East  42.887584 -78.812094          28780\n12      Fillmore-Leroy      East  42.933075 -78.835398          22910\n13    Seneca-Cazenovia     South  42.856939 -78.809195          38300\n14          Black Rock     North  42.939284 -78.901827          24550\n15        Central Park     North  42.948038 -78.837274          61940\n16           West Side      West  42.905534 -78.892684          20040\n17       Hopkins-Tifft     South  42.846165 -78.841956          36960\n18          South Park     South  42.842726 -78.813528          55720\n19       Schiller Park      East  42.913340 -78.805546          24020\n20         Hamlin Park      East  42.921161 -78.848504          27860\n21   Broadway Fillmore      East  42.890301 -78.839558          18940\n22          North Park     North  42.951131 -78.860831          53870\n23            Parkside     North  42.936658 -78.860027          54000\n24     Upper West Side      West  42.922925 -78.893404          31390\n25     Genesee-Moselle      East  42.906787 -78.818131          22080\n26            Kenfield      East  42.927779 -78.808760          26700\n27          First Ward     South  42.865960 -78.858467          27880\n28         West Hertel     North  42.951184 -78.886673          25980\n29            Ellicott      East  42.875295 -78.856977          22190\n30         Masten Park      East  42.910959 -78.855598          22520\n31       Grant-Amherst     North  42.938881 -78.888609          24385\n32      Seneca Babcock     South  42.870176 -78.832377          30290\n33            MLK Park      East  42.909308 -78.834789          20480\n34           Allentown      West  42.898553 -78.876092          39060"
                    },
                    "execution_count": 16,
                    "metadata": {},
                    "output_type": "execute_result"
                }
            ],
            "source": "df_data_1[['Neighborhood','Community','Latitude','Longitude','Median Income']]"
        },
        {
            "cell_type": "markdown",
            "metadata": {},
            "source": "This project can be used by anyone in the lookout for new home and trying the find out which area suits them the most."
        },
        {
            "cell_type": "code",
            "execution_count": null,
            "metadata": {},
            "outputs": [],
            "source": ""
        }
    ],
    "metadata": {
        "kernelspec": {
            "display_name": "Python 3.6",
            "language": "python",
            "name": "python3"
        },
        "language_info": {
            "codemirror_mode": {
                "name": "ipython",
                "version": 3
            },
            "file_extension": ".py",
            "mimetype": "text/x-python",
            "name": "python",
            "nbconvert_exporter": "python",
            "pygments_lexer": "ipython3",
            "version": "3.6.9"
        }
    },
    "nbformat": 4,
    "nbformat_minor": 1
}